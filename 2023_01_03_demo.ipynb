{
 "cells": [
  {
   "cell_type": "code",
   "execution_count": 20,
   "metadata": {},
   "outputs": [],
   "source": [
    "import mysql.connector as mariadb"
   ]
  },
  {
   "cell_type": "markdown",
   "metadata": {},
   "source": [
    "Open the database connection using the connect method.\n",
    "*since we are opening something.....what else might we need to do?\n",
    "*hint: close\n",
    "\n",
    "We are using the print statement as a reminder when we run our script that we are making db connection\n",
    "& because we are using as a simple way to make sure our code runs to that point in our file."
   ]
  },
  {
   "cell_type": "code",
   "execution_count": 21,
   "metadata": {},
   "outputs": [
    {
     "name": "stdout",
     "output_type": "stream",
     "text": [
      "Connecting to MariaDB Database...\n"
     ]
    }
   ],
   "source": [
    "con= mariadb.connect(\n",
    "    host=\"localhost\",\n",
    "    user=\"root\",\n",
    "    password=\"password\",\n",
    "    database=\"classicmodels\"\n",
    ")\n",
    "\n",
    "print(\"Connecting to MariaDB Database...\")"
   ]
  },
  {
   "cell_type": "markdown",
   "metadata": {},
   "source": [
    "Let's check and see if we actually made a connection. To do this we need to create a cursor.\n",
    "We do this by calling the cursor method. "
   ]
  },
  {
   "cell_type": "code",
   "execution_count": 22,
   "metadata": {},
   "outputs": [],
   "source": [
    "cur= con.cursor()\n",
    "\n",
    "st= \"SELECT productLine, COUNT(*) \\\n",
    "    FROM products \\\n",
    "    WHERE productLine= '{}'\"\n",
    "\n",
    "cur.execute(st.format('Motorcycles'))"
   ]
  },
  {
   "cell_type": "markdown",
   "metadata": {},
   "source": [
    "In the cell above we created and executed our sql statement. But we have not used any methods to actually \n",
    "access this data from our select statement.\n"
   ]
  },
  {
   "cell_type": "code",
   "execution_count": 23,
   "metadata": {},
   "outputs": [
    {
     "name": "stdout",
     "output_type": "stream",
     "text": [
      "[('Motorcycles', 13)]\n"
     ]
    }
   ],
   "source": [
    "result= cur.fetchall()\n",
    "print(result)\n",
    "\n",
    "con.close()"
   ]
  },
  {
   "cell_type": "markdown",
   "metadata": {},
   "source": [
    "That worked great! Let's make a new database without using the GUI or mysql shell.\n",
    "-Notice that we are not connecting to a specific database when we make the connection.\n",
    "-NOTE: strings can be passed directly into the execute method, determine which way works best for \n",
    "each individual situation."
   ]
  },
  {
   "cell_type": "code",
   "execution_count": 9,
   "metadata": {},
   "outputs": [
    {
     "name": "stdout",
     "output_type": "stream",
     "text": [
      "Connecting to MariaDB Database...\n",
      "test_db created\n"
     ]
    }
   ],
   "source": [
    "con= mariadb.connect(\n",
    "    host=\"localhost\",\n",
    "    user=\"root\",\n",
    "    password=\"password\",\n",
    ")\n",
    "\n",
    "print(\"Connecting to MariaDB Database...\")\n",
    "\n",
    "cur= con.cursor()\n",
    "\n",
    "#st= \"CREATE DATABASE test_db\"\n",
    "\n",
    "cur.execute(\"CREATE DATABASE test_db\")\n",
    "\n",
    "print(\"test_db created\")\n",
    "\n",
    "con.close()"
   ]
  },
  {
   "cell_type": "markdown",
   "metadata": {},
   "source": [
    "Add a table to the test_db database that we just created.\n",
    "We need to add the database arguement back to the connection object"
   ]
  },
  {
   "cell_type": "code",
   "execution_count": 10,
   "metadata": {},
   "outputs": [
    {
     "name": "stdout",
     "output_type": "stream",
     "text": [
      "Connecting to MariaDB Database...\n",
      "Registration Table is created\n"
     ]
    }
   ],
   "source": [
    "con= mariadb.connect(\n",
    "    host=\"localhost\",\n",
    "    user=\"root\",\n",
    "    password=\"password\",\n",
    "    database=\"test_db\"\n",
    ")\n",
    "\n",
    "print(\"Connecting to MariaDB Database...\")\n",
    "\n",
    "cur= con.cursor()\n",
    "\n",
    "st= \"CREATE TABLE Registration \\\n",
    "    (id INTEGER, age INTEGER, \\\n",
    "    first VARCHAR(50), last VARCHAR(50))\"\n",
    "\n",
    "cur.execute(st)\n",
    "\n",
    "print(\"Registration Table is created\")\n",
    "\n",
    "con.close()"
   ]
  },
  {
   "cell_type": "markdown",
   "metadata": {},
   "source": [
    "Insert data into our newly created Registration Table.\n",
    "*Reminder*\n",
    "DDL(Data Definition Language)- Create, Drop, Alter, \n",
    "DQL(Data Query Language)- SELECT\n",
    "DML(Data Manipulation Language)- INSERT, UPDATE, DELETE"
   ]
  },
  {
   "cell_type": "code",
   "execution_count": 11,
   "metadata": {},
   "outputs": [
    {
     "name": "stdout",
     "output_type": "stream",
     "text": [
      "Connecting to MariaDB Database...\n",
      "Values are inserted\n"
     ]
    }
   ],
   "source": [
    "con= mariadb.connect(\n",
    "    host=\"localhost\",\n",
    "    user=\"root\",\n",
    "    password=\"password\",\n",
    "    database=\"test_db\"\n",
    ")\n",
    "\n",
    "print(\"Connecting to MariaDB Database...\")\n",
    "\n",
    "cur= con.cursor()\n",
    "\n",
    "st=\"INSERT INTO Registration \\\n",
    "    (id, age, first, last) VALUES \\\n",
    "    (100, 29, 'Michael', 'Jordan'), \\\n",
    "    (101, 29, 'Diego', 'Maradona'), \\\n",
    "    (102, 33, 'Babe', 'Ruth'), \\\n",
    "    (103, 40, 'Wayne', 'Gretzky'), \\\n",
    "    (104, 27, 'Michelle', 'Kwan'), \\\n",
    "    (105, 35, 'Steffi', 'Graf')\"\n",
    "\n",
    "cur.execute(st)\n",
    "con.commit()\n",
    "\n",
    "print('Values are inserted')\n",
    "\n",
    "con.close()\n"
   ]
  },
  {
   "cell_type": "markdown",
   "metadata": {},
   "source": [
    "Let's check how to see our values, without using a GUI. \n",
    "We are using a different process here to access the values instead of the .fetchall() method."
   ]
  },
  {
   "cell_type": "code",
   "execution_count": 15,
   "metadata": {},
   "outputs": [
    {
     "name": "stdout",
     "output_type": "stream",
     "text": [
      "Connecting to MariaDB Database...\n",
      "ID: 100, AGE: 29, FIRST: Michael, LAST: Jordan\n",
      "ID: 101, AGE: 29, FIRST: Diego, LAST: Maradona\n",
      "ID: 102, AGE: 33, FIRST: Babe, LAST: Ruth\n",
      "ID: 103, AGE: 40, FIRST: Wayne, LAST: Gretzky\n",
      "ID: 104, AGE: 27, FIRST: Michelle, LAST: Kwan\n",
      "ID: 105, AGE: 35, FIRST: Steffi, LAST: Graf\n"
     ]
    }
   ],
   "source": [
    "con= mariadb.connect(\n",
    "    host=\"localhost\",\n",
    "    user=\"root\",\n",
    "    password=\"password\",\n",
    "    database=\"test_db\"\n",
    ")\n",
    "\n",
    "print(\"Connecting to MariaDB Database...\")\n",
    "\n",
    "cur= con.cursor()\n",
    "\n",
    "st= \"SELECT * FROM Registration\"\n",
    "\n",
    "cur.execute(st)\n",
    "\n",
    "#result= cur.fetchall()\n",
    "#print(result)\n",
    "for r in cur:\n",
    "    print(\"ID: {}, AGE: {}, FIRST: {}, LAST: {}\".format(r[0],r[1],r[2],r[3]))\n",
    "\n",
    "con.close()"
   ]
  },
  {
   "cell_type": "markdown",
   "metadata": {},
   "source": [
    "Querying with Like Operator"
   ]
  },
  {
   "cell_type": "code",
   "execution_count": 16,
   "metadata": {},
   "outputs": [
    {
     "name": "stdout",
     "output_type": "stream",
     "text": [
      "Connecting to MariaDB Database...\n",
      "ID: 100, AGE: 29, FIRST: Michael, LAST: Jordan\n",
      "ID: 104, AGE: 27, FIRST: Michelle, LAST: Kwan\n"
     ]
    }
   ],
   "source": [
    "con= mariadb.connect(\n",
    "    host=\"localhost\",\n",
    "    user=\"root\",\n",
    "    password=\"password\",\n",
    "    database=\"test_db\"\n",
    ")\n",
    "\n",
    "print(\"Connecting to MariaDB Database...\")\n",
    "\n",
    "cur= con.cursor()\n",
    "\n",
    "st= \"SELECT * FROM Registration WHERE first LIKE '%ich%'\"\n",
    "\n",
    "cur.execute(st)\n",
    "\n",
    "for r in cur:\n",
    "    print(\"ID: {}, AGE: {}, FIRST: {}, LAST: {}\".format(r[0],r[1],r[2],r[3]))\n",
    "\n",
    "con.close()"
   ]
  },
  {
   "cell_type": "markdown",
   "metadata": {},
   "source": [
    "UPDATE Example\n",
    "*Update is part of DML so we want to use the commit method on our connection object\n"
   ]
  },
  {
   "cell_type": "code",
   "execution_count": 17,
   "metadata": {},
   "outputs": [
    {
     "name": "stdout",
     "output_type": "stream",
     "text": [
      "Connecting to MariaDB Database...\n",
      "values are updated\n"
     ]
    }
   ],
   "source": [
    "con= mariadb.connect(\n",
    "    host=\"localhost\",\n",
    "    user=\"root\",\n",
    "    password=\"password\",\n",
    "    database=\"test_db\"\n",
    ")\n",
    "\n",
    "print(\"Connecting to MariaDB Database...\")\n",
    "\n",
    "cur= con.cursor()\n",
    "\n",
    "st= \"UPDATE Registration \\\n",
    "    SET age= 30 WHERE id IN (100,101)\"\n",
    "\n",
    "cur.execute(st)\n",
    "con.commit()\n",
    "print('values are updated')\n",
    "\n",
    "con.close()"
   ]
  },
  {
   "cell_type": "markdown",
   "metadata": {},
   "source": [
    "Let's check if the change was made."
   ]
  },
  {
   "cell_type": "code",
   "execution_count": 18,
   "metadata": {},
   "outputs": [
    {
     "name": "stdout",
     "output_type": "stream",
     "text": [
      "Connecting to MariaDB Database...\n",
      "ID: 100, AGE: 30, FIRST: Michael, LAST: Jordan\n",
      "ID: 101, AGE: 30, FIRST: Diego, LAST: Maradona\n",
      "ID: 102, AGE: 33, FIRST: Babe, LAST: Ruth\n",
      "ID: 103, AGE: 40, FIRST: Wayne, LAST: Gretzky\n",
      "ID: 104, AGE: 27, FIRST: Michelle, LAST: Kwan\n",
      "ID: 105, AGE: 35, FIRST: Steffi, LAST: Graf\n"
     ]
    }
   ],
   "source": [
    "con= mariadb.connect(\n",
    "    host=\"localhost\",\n",
    "    user=\"root\",\n",
    "    password=\"password\",\n",
    "    database=\"test_db\"\n",
    ")\n",
    "\n",
    "print(\"Connecting to MariaDB Database...\")\n",
    "\n",
    "cur= con.cursor()\n",
    "\n",
    "st= \"SELECT * FROM Registration\"\n",
    "\n",
    "cur.execute(st)\n",
    "\n",
    "#result= cur.fetchall()\n",
    "#print(result)\n",
    "for r in cur:\n",
    "    print(\"ID: {}, AGE: {}, FIRST: {}, LAST: {}\".format(r[0],r[1],r[2],r[3]))\n",
    "\n",
    "con.close()"
   ]
  },
  {
   "cell_type": "markdown",
   "metadata": {},
   "source": [
    "Example of using SQL actions with a try and except block"
   ]
  },
  {
   "cell_type": "code",
   "execution_count": 19,
   "metadata": {},
   "outputs": [
    {
     "name": "stdout",
     "output_type": "stream",
     "text": [
      "1049 (42000): Unknown database 'wrong_db'\n"
     ]
    }
   ],
   "source": [
    "try:\n",
    "    con= mariadb.connect(\n",
    "        user=\"root\",\n",
    "        password=\"password\",\n",
    "        database=\"wrong_db\"\n",
    "    )\n",
    "\n",
    "    print(\"Conneted to MariaDB...\")\n",
    "\n",
    "    con.close()\n",
    "except mariadb.Error as e:\n",
    "    print(e)"
   ]
  }
 ],
 "metadata": {
  "kernelspec": {
   "display_name": "Python 3.11.0 64-bit",
   "language": "python",
   "name": "python3"
  },
  "language_info": {
   "codemirror_mode": {
    "name": "ipython",
    "version": 3
   },
   "file_extension": ".py",
   "mimetype": "text/x-python",
   "name": "python",
   "nbconvert_exporter": "python",
   "pygments_lexer": "ipython3",
   "version": "3.11.0"
  },
  "orig_nbformat": 4,
  "vscode": {
   "interpreter": {
    "hash": "88fec6931546e503fe6844a95a2ea9da26c87506fd74a326793eb6cd9106bc29"
   }
  }
 },
 "nbformat": 4,
 "nbformat_minor": 2
}

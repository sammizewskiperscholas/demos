{
 "cells": [
  {
   "cell_type": "code",
   "execution_count": 2,
   "metadata": {},
   "outputs": [],
   "source": [
    "import mysql.connector as mariadb"
   ]
  },
  {
   "cell_type": "markdown",
   "metadata": {},
   "source": [
    "Open the database connection using the connect method.\n",
    "*since we are opening something.....what else might we need to do?\n",
    "*hint: close\n",
    "\n",
    "We are using the print statement as a reminder when we run our script that we are making db connection\n",
    "& because we are using as a simple way to make sure our code runs to that point in our file."
   ]
  },
  {
   "cell_type": "code",
   "execution_count": 3,
   "metadata": {},
   "outputs": [
    {
     "name": "stdout",
     "output_type": "stream",
     "text": [
      "Connecting to MariaDB Database...\n"
     ]
    }
   ],
   "source": [
    "con= mariadb.connect(\n",
    "    host=\"localhost\",\n",
    "    user=\"root\",\n",
    "    password=\"password\",\n",
    "    database=\"classicmodels\"\n",
    ")\n",
    "\n",
    "print(\"Connecting to MariaDB Database...\")"
   ]
  },
  {
   "cell_type": "markdown",
   "metadata": {},
   "source": [
    "Let's check and see if we actually made a connection. To do this we need to create a cursor.\n",
    "We do this by calling the cursor method. "
   ]
  },
  {
   "cell_type": "code",
   "execution_count": 4,
   "metadata": {},
   "outputs": [],
   "source": [
    "cur= con.cursor()\n",
    "\n",
    "st= \"SELECT productLine, COUNT(*) \\\n",
    "    FROM products \\\n",
    "    WHERE productLine= '{}'\"\n",
    "\n",
    "cur.execute(st.format('Motorcycles'))"
   ]
  },
  {
   "cell_type": "markdown",
   "metadata": {},
   "source": [
    "In the cell above we created and executed our sql statement. But we have not used any methods to actually \n",
    "access this data from our select statement.\n"
   ]
  },
  {
   "cell_type": "code",
   "execution_count": 5,
   "metadata": {},
   "outputs": [
    {
     "name": "stdout",
     "output_type": "stream",
     "text": [
      "[('Motorcycles', 13)]\n"
     ]
    }
   ],
   "source": [
    "result= cur.fetchall()\n",
    "print(result)"
   ]
  }
 ],
 "metadata": {
  "kernelspec": {
   "display_name": "Python 3.11.0 64-bit",
   "language": "python",
   "name": "python3"
  },
  "language_info": {
   "codemirror_mode": {
    "name": "ipython",
    "version": 3
   },
   "file_extension": ".py",
   "mimetype": "text/x-python",
   "name": "python",
   "nbconvert_exporter": "python",
   "pygments_lexer": "ipython3",
   "version": "3.11.0"
  },
  "orig_nbformat": 4,
  "vscode": {
   "interpreter": {
    "hash": "88fec6931546e503fe6844a95a2ea9da26c87506fd74a326793eb6cd9106bc29"
   }
  }
 },
 "nbformat": 4,
 "nbformat_minor": 2
}

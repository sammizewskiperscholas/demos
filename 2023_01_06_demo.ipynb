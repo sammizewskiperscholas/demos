{
 "cells": [
  {
   "attachments": {},
   "cell_type": "markdown",
   "metadata": {},
   "source": [
    "We have an endpoint with 82 people records\n",
    "We have 10 records per page\n",
    "We have 9 total pages\n",
    "\n",
    "We have a base url: https://swapi.dev/api/people/?page="
   ]
  },
  {
   "cell_type": "code",
   "execution_count": 1,
   "metadata": {},
   "outputs": [],
   "source": [
    "import requests\n",
    "import json \n",
    "from pprint import pp"
   ]
  },
  {
   "attachments": {},
   "cell_type": "markdown",
   "metadata": {},
   "source": [
    "We need to get all of the pages into one Python List.\n",
    "\n",
    "Psuedo-Code\n",
    "1. I want to make a for loop that loops through every page\n",
    "    -I need to increase the page number of the URL by 1 every time I move through the loop\n",
    "        -pagenum + 1\n",
    "        -pagenum + i \n",
    "\n",
    "Concept: I need to extract the data I am looking for into a data structure (list)\n",
    "    -need to create a list\n",
    "\n",
    "2. Make a get request\n",
    "    -I need to save the response to the request in a variable\n",
    "\n",
    "3. Need to turn our response into a data type we can use later\n",
    "    .loads() \n",
    "    .json()\n",
    "\n",
    "4. .append the converted response into the list"
   ]
  },
  {
   "attachments": {},
   "cell_type": "markdown",
   "metadata": {},
   "source": [
    "WAIT!\n",
    "\n",
    "Before we even mess the loop.....let's make sure we can do it for one page"
   ]
  },
  {
   "cell_type": "code",
   "execution_count": null,
   "metadata": {},
   "outputs": [],
   "source": []
  }
 ],
 "metadata": {
  "kernelspec": {
   "display_name": "Python 3.11.0 64-bit",
   "language": "python",
   "name": "python3"
  },
  "language_info": {
   "codemirror_mode": {
    "name": "ipython",
    "version": 3
   },
   "file_extension": ".py",
   "mimetype": "text/x-python",
   "name": "python",
   "nbconvert_exporter": "python",
   "pygments_lexer": "ipython3",
   "version": "3.11.0"
  },
  "orig_nbformat": 4,
  "vscode": {
   "interpreter": {
    "hash": "88fec6931546e503fe6844a95a2ea9da26c87506fd74a326793eb6cd9106bc29"
   }
  }
 },
 "nbformat": 4,
 "nbformat_minor": 2
}

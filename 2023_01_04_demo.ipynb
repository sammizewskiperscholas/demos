{
 "cells": [
  {
   "cell_type": "code",
   "execution_count": 2,
   "metadata": {},
   "outputs": [],
   "source": [
    "import requests\n",
    "import json \n",
    "from pprint import pp"
   ]
  },
  {
   "cell_type": "markdown",
   "metadata": {},
   "source": [
    "Get Request"
   ]
  },
  {
   "cell_type": "code",
   "execution_count": 8,
   "metadata": {},
   "outputs": [
    {
     "name": "stdout",
     "output_type": "stream",
     "text": [
      "{'userId': 1, 'id': 1, 'title': 'delectus aut autem', 'completed': False}\n",
      "200\n",
      "{'Date': 'Wed, 04 Jan 2023 14:34:17 GMT', 'Content-Type': 'application/json; charset=utf-8', 'Transfer-Encoding': 'chunked', 'Connection': 'keep-alive', 'X-Powered-By': 'Express', 'X-Ratelimit-Limit': '1000', 'X-Ratelimit-Remaining': '999', 'X-Ratelimit-Reset': '1668314478', 'Vary': 'Origin, Accept-Encoding', 'Access-Control-Allow-Credentials': 'true', 'Cache-Control': 'max-age=43200', 'Pragma': 'no-cache', 'Expires': '-1', 'X-Content-Type-Options': 'nosniff', 'Etag': 'W/\"53-hfEnumeNh6YirfjyjaujcOPPT+s\"', 'Via': '1.1 vegur', 'CF-Cache-Status': 'HIT', 'Age': '18683', 'Server-Timing': 'cf-q-config;dur=5.9999874792993e-06', 'Report-To': '{\"endpoints\":[{\"url\":\"https:\\\\/\\\\/a.nel.cloudflare.com\\\\/report\\\\/v3?s=E7gIyQltmJCxPts4eZkekmBFHkyYREoPuy3SdGAwEb2vX2K7GQMqGz6Zs2u4bnjES60e16l1qTX1aYQOg%2Bh7DMQVRuKv7TOsW%2F4yram6OgB1NBUWOm0aAaC4pAKxg8Kc8IeP1EIefMLlLjGL1XoHEdKmf2%2BPi%2BiyHMPy\"}],\"group\":\"cf-nel\",\"max_age\":604800}', 'NEL': '{\"success_fraction\":0,\"report_to\":\"cf-nel\",\"max_age\":604800}', 'Server': 'cloudflare', 'CF-RAY': '7844b1b0bdd856b6-IAD', 'Content-Encoding': 'gzip', 'alt-svc': 'h3=\":443\"; ma=86400, h3-29=\":443\"; ma=86400'}\n",
      "application/json; charset=utf-8\n"
     ]
    }
   ],
   "source": [
    "api_url = \"https://jsonplaceholder.typicode.com/todos/1\"\n",
    "response= requests.get(api_url)\n",
    "r= response.json()\n",
    "\n",
    "print(response.json())\n",
    "print(response.status_code)\n",
    "print(response.headers)\n",
    "print (response.headers[\"Content-Type\"])"
   ]
  },
  {
   "cell_type": "markdown",
   "metadata": {},
   "source": [
    "POST Request"
   ]
  },
  {
   "cell_type": "code",
   "execution_count": 12,
   "metadata": {},
   "outputs": [
    {
     "name": "stdout",
     "output_type": "stream",
     "text": [
      "201\n",
      "{'userId': 1, 'title': 'Buy milk', 'completed': False, 'id': 201}\n"
     ]
    }
   ],
   "source": [
    "api_url = \"https://jsonplaceholder.typicode.com/todos\"\n",
    "todo = {\"userId\": 1, \"title\": \"Buy milk\", \"completed\": False}\n",
    "response= requests.post(api_url, json=todo)\n",
    "print(response.status_code)\n",
    "print(response.json())\n",
    "\n",
    "#alternate\n",
    "headers =  {\"Content-Type\":\"application/json\"}\n",
    "response = requests.post(api_url, data=json.dumps(todo), headers=headers)\n",
    "print(response.json())"
   ]
  },
  {
   "cell_type": "markdown",
   "metadata": {},
   "source": [
    "PUT Requests"
   ]
  },
  {
   "cell_type": "code",
   "execution_count": 17,
   "metadata": {},
   "outputs": [
    {
     "name": "stdout",
     "output_type": "stream",
     "text": [
      "{'userId': 1, 'id': 10, 'title': 'illo est ratione doloremque quia maiores aut', 'completed': True}\n",
      "{'userId': 1, 'title': 'Wash car', 'completed': True, 'id': 10}\n",
      "200\n"
     ]
    }
   ],
   "source": [
    "api_url = \"https://jsonplaceholder.typicode.com/todos/10\"\n",
    "response= requests.get(api_url)\n",
    "print(response.json())\n",
    "\n",
    "todo = {\"userId\": 1, \"title\": \"Wash car\", \"completed\": True}\n",
    "response = requests.put(api_url, json=todo)\n",
    "print(response.json())\n",
    "print(response.status_code)"
   ]
  },
  {
   "cell_type": "markdown",
   "metadata": {},
   "source": [
    "PATCH Request"
   ]
  },
  {
   "cell_type": "code",
   "execution_count": 21,
   "metadata": {},
   "outputs": [
    {
     "name": "stdout",
     "output_type": "stream",
     "text": [
      "{'userId': 1, 'id': 10, 'title': 'Mow lawn', 'completed': True}\n",
      "200\n"
     ]
    }
   ],
   "source": [
    "api_url = \"https://jsonplaceholder.typicode.com/todos/10\"\n",
    "todo = {\"title\": \"Mow lawn\"}\n",
    "response = requests.patch(api_url, json=todo)\n",
    "print(response.json())\n",
    "print(response.status_code)"
   ]
  },
  {
   "cell_type": "markdown",
   "metadata": {},
   "source": [
    "DELETE Request"
   ]
  },
  {
   "cell_type": "code",
   "execution_count": 22,
   "metadata": {},
   "outputs": [
    {
     "name": "stdout",
     "output_type": "stream",
     "text": [
      "{}\n",
      "200\n"
     ]
    }
   ],
   "source": [
    "api_url = \"https://jsonplaceholder.typicode.com/todos/10\"\n",
    "response = requests.delete(api_url)\n",
    "print(response.json())\n",
    "print(response.status_code)"
   ]
  },
  {
   "cell_type": "markdown",
   "metadata": {},
   "source": [
    "Practice Example with People in space:\n",
    "1. We need to access our people key from our outer dictionary only!\n",
    "(Maybe there is a way that I can save the people key values into it's own variable) DONE\n",
    "2. We need to loop through our list of dictionaries\n",
    "3. At each pass of the for loop we need to access the 'name' key and somehow capture the value. (Here we can determine if we want to print it on each loop OR do we want to capture it in variable and just print it at the end all together)"
   ]
  },
  {
   "cell_type": "code",
   "execution_count": 38,
   "metadata": {},
   "outputs": [
    {
     "name": "stdout",
     "output_type": "stream",
     "text": [
      "{'message': 'success',\n",
      " 'people': [{'name': 'Sergey Prokopyev', 'craft': 'ISS'},\n",
      "            {'name': 'Dmitry Petelin', 'craft': 'ISS'},\n",
      "            {'name': 'Frank Rubio', 'craft': 'ISS'},\n",
      "            {'name': 'Nicole Mann', 'craft': 'ISS'},\n",
      "            {'name': 'Josh Cassada', 'craft': 'ISS'},\n",
      "            {'name': 'Koichi Wakata', 'craft': 'ISS'},\n",
      "            {'name': 'Anna Kikina', 'craft': 'ISS'},\n",
      "            {'name': 'Fei Junlong', 'craft': 'Shenzhou 15'},\n",
      "            {'name': 'Deng Qingming', 'craft': 'Shenzhou 15'},\n",
      "            {'name': 'Zhang Lu', 'craft': 'Shenzhou 15'}],\n",
      " 'number': 10}\n",
      "[{'name': 'Sergey Prokopyev', 'craft': 'ISS'}, {'name': 'Dmitry Petelin', 'craft': 'ISS'}, {'name': 'Frank Rubio', 'craft': 'ISS'}, {'name': 'Nicole Mann', 'craft': 'ISS'}, {'name': 'Josh Cassada', 'craft': 'ISS'}, {'name': 'Koichi Wakata', 'craft': 'ISS'}, {'name': 'Anna Kikina', 'craft': 'ISS'}, {'name': 'Fei Junlong', 'craft': 'Shenzhou 15'}, {'name': 'Deng Qingming', 'craft': 'Shenzhou 15'}, {'name': 'Zhang Lu', 'craft': 'Shenzhou 15'}]\n",
      "success\n"
     ]
    }
   ],
   "source": [
    "response = requests.get(\"http://api.open-notify.org/astros.json\")\n",
    "#print(response.status_code)\n",
    "#pp(response.json())\n",
    "\n",
    "\n",
    "#i am a dictionary\n",
    "r= response.json()\n",
    "pp(r)\n",
    "\n",
    "###### The variable assignments here are based on the values of the keys\n",
    "#i am a list\n",
    "people_subset= r[\"people\"]\n",
    "print(people_subset)\n",
    "\n",
    "#i am a string\n",
    "message_value= r['message']\n",
    "print(message_value)\n",
    "\n",
    "def get_names():\n",
    "    plist=[]\n",
    "    for person in people_subset:\n",
    "        plist.append(person['name'])\n",
    "    return plist\n",
    "        \n",
    "new_list= get_names()\n"
   ]
  },
  {
   "cell_type": "markdown",
   "metadata": {},
   "source": [
    "Youtube Exmaple"
   ]
  },
  {
   "cell_type": "code",
   "execution_count": 41,
   "metadata": {},
   "outputs": [
    {
     "name": "stdout",
     "output_type": "stream",
     "text": [
      "https://rickandmortyapi.com/api/character?page=42\n"
     ]
    }
   ],
   "source": [
    "baseurl = 'https://rickandmortyapi.com/api/'\n",
    "endpoint = 'character'\n",
    "def main_request(baseurl, endpoint, x):\n",
    "    response = requests.get(baseurl + endpoint + f'?page={x}')\n",
    "    return response.json()\n",
    "\n",
    "def get_pages(response):\n",
    "    return response['info']['pages']\n",
    "\n",
    "def parse_json(response):\n",
    "    charlist = []\n",
    "    for item in response['results']:       \n",
    "        char = {\n",
    "            'name': item['name'],\n",
    "            'no_ep': len(item['episode']),\n",
    "        }\n",
    "        charlist.append(char)\n",
    "    return charlist\n",
    "\n",
    "mainlist = []\n",
    "data = main_request(baseurl, endpoint, 1)\n",
    "for x in range(1, get_pages(data)+1):\n",
    "    #print(x)\n",
    "    mainlist.extend(parse_json(main_request(baseurl, endpoint, x)))\n",
    "\n",
    "#print(len(mainlist))\n",
    "\n",
    "\n",
    "print(baseurl+endpoint+f'?page={x}')"
   ]
  }
 ],
 "metadata": {
  "kernelspec": {
   "display_name": "Python 3.11.0 64-bit",
   "language": "python",
   "name": "python3"
  },
  "language_info": {
   "codemirror_mode": {
    "name": "ipython",
    "version": 3
   },
   "file_extension": ".py",
   "mimetype": "text/x-python",
   "name": "python",
   "nbconvert_exporter": "python",
   "pygments_lexer": "ipython3",
   "version": "3.11.0"
  },
  "orig_nbformat": 4,
  "vscode": {
   "interpreter": {
    "hash": "88fec6931546e503fe6844a95a2ea9da26c87506fd74a326793eb6cd9106bc29"
   }
  }
 },
 "nbformat": 4,
 "nbformat_minor": 2
}
